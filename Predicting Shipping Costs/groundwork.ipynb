{
 "cells": [
  {
   "cell_type": "code",
   "execution_count": 1,
   "metadata": {},
   "outputs": [],
   "source": [
    "import pandas as pd\n",
    "\n",
    "import matplotlib.pyplot as plt\n",
    "\n",
    "from itertools import combinations \n",
    "\n",
    "import numpy as np\n",
    "\n",
    "from category_encoders import MEstimateEncoder\n",
    "\n",
    "from sklearn import metrics\n",
    "\n",
    "from sklearn.ensemble import RandomForestRegressor\n",
    "\n",
    "from sklearn.metrics import make_scorer\n",
    "\n",
    "from sklearn.model_selection import cross_val_score\n",
    "\n",
    "from xgboost import XGBRegressor\n",
    "\n",
    "from sklearn.model_selection import RepeatedKFold\n",
    "\n",
    "from sklearn.feature_selection import mutual_info_regression\n",
    "\n",
    "from catboost import CatBoostRegressor\n",
    "\n",
    "from sklearn.preprocessing import LabelEncoder\n",
    "\n",
    "from scipy.special import inv_boxcox\n",
    "from scipy.stats import boxcox\n",
    "\n"
   ]
  },
  {
   "cell_type": "code",
   "execution_count": 2,
   "metadata": {},
   "outputs": [
    {
     "data": {
      "text/html": [
       "<div>\n",
       "<style scoped>\n",
       "    .dataframe tbody tr th:only-of-type {\n",
       "        vertical-align: middle;\n",
       "    }\n",
       "\n",
       "    .dataframe tbody tr th {\n",
       "        vertical-align: top;\n",
       "    }\n",
       "\n",
       "    .dataframe thead th {\n",
       "        text-align: right;\n",
       "    }\n",
       "</style>\n",
       "<table border=\"1\" class=\"dataframe\">\n",
       "  <thead>\n",
       "    <tr style=\"text-align: right;\">\n",
       "      <th></th>\n",
       "      <th>Artist Name</th>\n",
       "      <th>Artist Reputation</th>\n",
       "      <th>Height</th>\n",
       "      <th>Width</th>\n",
       "      <th>Weight</th>\n",
       "      <th>Material</th>\n",
       "      <th>Price Of Sculpture</th>\n",
       "      <th>Base Shipping Price</th>\n",
       "      <th>International</th>\n",
       "      <th>Express Shipment</th>\n",
       "      <th>Installation Included</th>\n",
       "      <th>Transport</th>\n",
       "      <th>Fragile</th>\n",
       "      <th>Customer Information</th>\n",
       "      <th>Remote Location</th>\n",
       "      <th>Scheduled Date</th>\n",
       "      <th>Delivery Date</th>\n",
       "      <th>Customer Location</th>\n",
       "      <th>Cost</th>\n",
       "    </tr>\n",
       "  </thead>\n",
       "  <tbody>\n",
       "    <tr>\n",
       "      <th>0</th>\n",
       "      <td>Billy Jenkins</td>\n",
       "      <td>0.26</td>\n",
       "      <td>17.0</td>\n",
       "      <td>6.0</td>\n",
       "      <td>4128.0</td>\n",
       "      <td>Brass</td>\n",
       "      <td>13.91</td>\n",
       "      <td>16.27</td>\n",
       "      <td>Yes</td>\n",
       "      <td>Yes</td>\n",
       "      <td>No</td>\n",
       "      <td>Airways</td>\n",
       "      <td>No</td>\n",
       "      <td>Working Class</td>\n",
       "      <td>No</td>\n",
       "      <td>06/07/15</td>\n",
       "      <td>06/03/15</td>\n",
       "      <td>New Michelle, OH 50777</td>\n",
       "      <td>283.29</td>\n",
       "    </tr>\n",
       "    <tr>\n",
       "      <th>1</th>\n",
       "      <td>Jean Bryant</td>\n",
       "      <td>0.28</td>\n",
       "      <td>3.0</td>\n",
       "      <td>3.0</td>\n",
       "      <td>61.0</td>\n",
       "      <td>Brass</td>\n",
       "      <td>6.83</td>\n",
       "      <td>15.00</td>\n",
       "      <td>No</td>\n",
       "      <td>No</td>\n",
       "      <td>No</td>\n",
       "      <td>Roadways</td>\n",
       "      <td>No</td>\n",
       "      <td>Working Class</td>\n",
       "      <td>No</td>\n",
       "      <td>03/06/17</td>\n",
       "      <td>03/05/17</td>\n",
       "      <td>New Michaelport, WY 12072</td>\n",
       "      <td>159.96</td>\n",
       "    </tr>\n",
       "    <tr>\n",
       "      <th>2</th>\n",
       "      <td>Laura Miller</td>\n",
       "      <td>0.07</td>\n",
       "      <td>8.0</td>\n",
       "      <td>5.0</td>\n",
       "      <td>237.0</td>\n",
       "      <td>Clay</td>\n",
       "      <td>4.96</td>\n",
       "      <td>21.18</td>\n",
       "      <td>No</td>\n",
       "      <td>No</td>\n",
       "      <td>No</td>\n",
       "      <td>Roadways</td>\n",
       "      <td>Yes</td>\n",
       "      <td>Working Class</td>\n",
       "      <td>Yes</td>\n",
       "      <td>03/09/15</td>\n",
       "      <td>03/08/15</td>\n",
       "      <td>Bowmanshire, WA 19241</td>\n",
       "      <td>154.29</td>\n",
       "    </tr>\n",
       "    <tr>\n",
       "      <th>3</th>\n",
       "      <td>Robert Chaires</td>\n",
       "      <td>0.12</td>\n",
       "      <td>9.0</td>\n",
       "      <td>NaN</td>\n",
       "      <td>NaN</td>\n",
       "      <td>Aluminium</td>\n",
       "      <td>5.81</td>\n",
       "      <td>16.31</td>\n",
       "      <td>No</td>\n",
       "      <td>No</td>\n",
       "      <td>No</td>\n",
       "      <td>NaN</td>\n",
       "      <td>No</td>\n",
       "      <td>Wealthy</td>\n",
       "      <td>Yes</td>\n",
       "      <td>05/24/15</td>\n",
       "      <td>05/20/15</td>\n",
       "      <td>East Robyn, KY 86375</td>\n",
       "      <td>161.16</td>\n",
       "    </tr>\n",
       "    <tr>\n",
       "      <th>4</th>\n",
       "      <td>Rosalyn Krol</td>\n",
       "      <td>0.15</td>\n",
       "      <td>17.0</td>\n",
       "      <td>6.0</td>\n",
       "      <td>324.0</td>\n",
       "      <td>Aluminium</td>\n",
       "      <td>3.18</td>\n",
       "      <td>11.94</td>\n",
       "      <td>Yes</td>\n",
       "      <td>Yes</td>\n",
       "      <td>Yes</td>\n",
       "      <td>Airways</td>\n",
       "      <td>No</td>\n",
       "      <td>Working Class</td>\n",
       "      <td>No</td>\n",
       "      <td>12/18/16</td>\n",
       "      <td>12/14/16</td>\n",
       "      <td>Aprilside, PA 52793</td>\n",
       "      <td>159.23</td>\n",
       "    </tr>\n",
       "  </tbody>\n",
       "</table>\n",
       "</div>"
      ],
      "text/plain": [
       "      Artist Name  Artist Reputation  Height  Width  Weight   Material  \\\n",
       "0   Billy Jenkins               0.26    17.0    6.0  4128.0      Brass   \n",
       "1     Jean Bryant               0.28     3.0    3.0    61.0      Brass   \n",
       "2    Laura Miller               0.07     8.0    5.0   237.0       Clay   \n",
       "3  Robert Chaires               0.12     9.0    NaN     NaN  Aluminium   \n",
       "4    Rosalyn Krol               0.15    17.0    6.0   324.0  Aluminium   \n",
       "\n",
       "   Price Of Sculpture  Base Shipping Price International Express Shipment  \\\n",
       "0               13.91                16.27           Yes              Yes   \n",
       "1                6.83                15.00            No               No   \n",
       "2                4.96                21.18            No               No   \n",
       "3                5.81                16.31            No               No   \n",
       "4                3.18                11.94           Yes              Yes   \n",
       "\n",
       "  Installation Included Transport Fragile Customer Information  \\\n",
       "0                    No   Airways      No        Working Class   \n",
       "1                    No  Roadways      No        Working Class   \n",
       "2                    No  Roadways     Yes        Working Class   \n",
       "3                    No       NaN      No              Wealthy   \n",
       "4                   Yes   Airways      No        Working Class   \n",
       "\n",
       "  Remote Location Scheduled Date Delivery Date          Customer Location  \\\n",
       "0              No       06/07/15      06/03/15     New Michelle, OH 50777   \n",
       "1              No       03/06/17      03/05/17  New Michaelport, WY 12072   \n",
       "2             Yes       03/09/15      03/08/15      Bowmanshire, WA 19241   \n",
       "3             Yes       05/24/15      05/20/15       East Robyn, KY 86375   \n",
       "4              No       12/18/16      12/14/16        Aprilside, PA 52793   \n",
       "\n",
       "     Cost  \n",
       "0  283.29  \n",
       "1  159.96  \n",
       "2  154.29  \n",
       "3  161.16  \n",
       "4  159.23  "
      ]
     },
     "execution_count": 2,
     "metadata": {},
     "output_type": "execute_result"
    }
   ],
   "source": [
    "train = pd.read_csv('C:/Users/DELL/Desktop/HackerEarth_Shipping_Cost/train.csv')\n",
    "test = pd.read_csv('C:/Users/DELL/Desktop/HackerEarth_Shipping_Cost/test.csv')\n",
    "\n",
    "t = test['Customer Id']\n",
    "\n",
    "train['Cost'] = train['Cost'].abs()\n",
    "\n",
    "test['Cost'] = -1\n",
    "\n",
    "data1 = pd.concat([train,test],axis=0)\n",
    "\n",
    "\n",
    "\n",
    "data1 = data1.drop(['Customer Id'],axis=1)\n",
    "\n",
    "data1.head()"
   ]
  },
  {
   "cell_type": "code",
   "execution_count": 3,
   "metadata": {},
   "outputs": [],
   "source": [
    "train = pd.read_csv('C:/Users/DELL/Desktop/HackerEarth_Shipping_Cost/train.csv')\n",
    "test = pd.read_csv('C:/Users/DELL/Desktop/HackerEarth_Shipping_Cost/test.csv')\n"
   ]
  },
  {
   "cell_type": "code",
   "execution_count": 4,
   "metadata": {},
   "outputs": [],
   "source": [
    "# train['Cost'] = train['Cost'].abs()\n",
    "# train['Cost'] = np.log(train['Cost'])"
   ]
  },
  {
   "cell_type": "code",
   "execution_count": 5,
   "metadata": {},
   "outputs": [],
   "source": [
    "# train['Cost'].skew()"
   ]
  },
  {
   "cell_type": "code",
   "execution_count": 6,
   "metadata": {},
   "outputs": [],
   "source": [
    "# sns.distplot(train['Cost'])"
   ]
  },
  {
   "cell_type": "code",
   "execution_count": 7,
   "metadata": {},
   "outputs": [],
   "source": [
    "# train['Cost'] = train['Cost'].abs()\n",
    "# train['Cost'],l = boxcox(train['Cost'])"
   ]
  },
  {
   "cell_type": "code",
   "execution_count": 8,
   "metadata": {},
   "outputs": [],
   "source": [
    "# train['Cost'].skew()"
   ]
  },
  {
   "cell_type": "code",
   "execution_count": 9,
   "metadata": {},
   "outputs": [],
   "source": [
    "# import seaborn as sns\n",
    "# sns.distplot(train['Cost'])"
   ]
  },
  {
   "cell_type": "code",
   "execution_count": 10,
   "metadata": {},
   "outputs": [],
   "source": [
    "# train['Cost'].describe()"
   ]
  },
  {
   "cell_type": "code",
   "execution_count": 11,
   "metadata": {},
   "outputs": [],
   "source": [
    "# train[['a','b']].describe()"
   ]
  },
  {
   "cell_type": "code",
   "execution_count": 12,
   "metadata": {},
   "outputs": [],
   "source": [
    "# x = train['Cost'].values\n",
    "# pred,l = boxcox(train['Cost'],lmbda = 1)\n",
    "\n",
    "\n"
   ]
  },
  {
   "cell_type": "code",
   "execution_count": 13,
   "metadata": {},
   "outputs": [],
   "source": [
    "d = combinations(['International','Express Shipment'],2)\n",
    "\n",
    "\n",
    "\n",
    "\n",
    "for i, j in d:\n",
    "     data1[i + '_' + j] = data1[i].astype(str) + '_' + data1[j].astype(str)"
   ]
  },
  {
   "cell_type": "code",
   "execution_count": 14,
   "metadata": {},
   "outputs": [],
   "source": [
    "d = combinations(['International','Express Shipment','Transport','Installation Included','Fragile'],2)\n",
    "\n",
    "for i, j in d:\n",
    "     data1[i + '_' + j] = data1[i].astype(str) + '_' + data1[j].astype(str)\n",
    "\n",
    "# d = combinations(['International','Express Shipment','Transport','Installation Included','Fragile'],4)\n",
    "# for i, j,k,l in d:\n",
    "#      data1[i + '_' + j + '_' + k + '_' + l] = data1[i].astype(str) + '_' + data1[j].astype(str)+ '_'+ data1[k].astype(str) + '_' + data1[l].astype(str)\n",
    "        \n",
    "        \n",
    "d = combinations(['International','Express Shipment','Transport','Installation Included','Fragile'],3)\n",
    "for i, j,k in d:\n",
    "     data1[i + '_' + j + '_' + k ] = data1[i].astype(str) + '_' + data1[j].astype(str)+ '_'+ data1[k].astype(str)"
   ]
  },
  {
   "cell_type": "code",
   "execution_count": 15,
   "metadata": {},
   "outputs": [],
   "source": [
    "d = combinations(['International','Express Shipment','Transport','Installation Included','Fragile','Remote Location'],6)\n",
    "\n",
    "for i, j,k,l,m,n in d:\n",
    "     data1['Mix'] = data1[i].astype(str) + '_' + data1[j].astype(str) + '_' + data1[k].astype(str) + '_' + data1[l].astype(str) + '_' + data1[m].astype(str) + '_' + data1[n].astype(str)\n"
   ]
  },
  {
   "cell_type": "code",
   "execution_count": 16,
   "metadata": {},
   "outputs": [],
   "source": [
    "data1.fillna({'Artist Reputation':np.mean(data1['Artist Reputation'])\\\n",
    "              ,'Height':np.mean(data1['Height']),'Width':np.mean(data1['Width'])\\\n",
    "              ,'Weight':np.mean(data1['Weight'])}, inplace=True)\n",
    "\n",
    "\n",
    "dic = {\"No_No\":'Roadways',\"No_Yes\":'Airways',\"Yes_No\":'Waterways',\"Yes_Yes\":'Airways'}\n",
    "\n",
    "data1.Transport = data1.Transport.fillna(data1['International_Express Shipment'].map(dic))\n",
    "\n",
    "a = data1['Remote Location'].value_counts(normalize=True)\n",
    "\n",
    "data1['Remote Location'] = data1['Remote Location'].fillna(pd.Series(np.random.choice(a.index, \n",
    "                                                       p=a.values, size=len(data1))))\n"
   ]
  },
  {
   "cell_type": "code",
   "execution_count": 17,
   "metadata": {},
   "outputs": [
    {
     "name": "stderr",
     "output_type": "stream",
     "text": [
      "C:\\Users\\DELL\\Anaconda3\\envs\\PythonML\\lib\\site-packages\\sklearn\\utils\\validation.py:63: DataConversionWarning: A column-vector y was passed when a 1d array was expected. Please change the shape of y to (n_samples, ), for example using ravel().\n",
      "  return f(*args, **kwargs)\n",
      "C:\\Users\\DELL\\Anaconda3\\envs\\PythonML\\lib\\site-packages\\ipykernel_launcher.py:7: SettingWithCopyWarning: \n",
      "A value is trying to be set on a copy of a slice from a DataFrame.\n",
      "Try using .loc[row_indexer,col_indexer] = value instead\n",
      "\n",
      "See the caveats in the documentation: https://pandas.pydata.org/pandas-docs/stable/user_guide/indexing.html#returning-a-view-versus-a-copy\n",
      "  import sys\n",
      "C:\\Users\\DELL\\Anaconda3\\envs\\PythonML\\lib\\site-packages\\ipykernel_launcher.py:8: SettingWithCopyWarning: \n",
      "A value is trying to be set on a copy of a slice from a DataFrame.\n",
      "Try using .loc[row_indexer,col_indexer] = value instead\n",
      "\n",
      "See the caveats in the documentation: https://pandas.pydata.org/pandas-docs/stable/user_guide/indexing.html#returning-a-view-versus-a-copy\n",
      "  \n"
     ]
    }
   ],
   "source": [
    "from sklearn.impute import KNNImputer\n",
    "data1['Material'] = data1['Material'].astype(str)\n",
    "data1['Fragile'] = data1['Fragile'].astype(str)\n",
    "\n",
    "df = data1[['Height','Weight','Width','Material','Price Of Sculpture','Fragile']]\n",
    "ord_enc = LabelEncoder()\n",
    "df['Material'] = ord_enc.fit_transform(df[['Material']])\n",
    "df['Fragile'] = ord_enc.fit_transform(df[['Fragile']])\n",
    "\n",
    "\n",
    "knnimp = KNNImputer(n_neighbors = 3)\n",
    "df = knnimp.fit_transform(df)\n",
    "data1['Material'] = df[:,3]"
   ]
  },
  {
   "cell_type": "code",
   "execution_count": 18,
   "metadata": {},
   "outputs": [],
   "source": [
    "data1['Area'] = data1['Height'] * data1['Width']\n",
    "\n",
    "\n",
    "data1['Area'] = data1['Area'].astype(int)\n",
    "\n",
    "# data1['Area1'] = data1['Base Shipping Price'] * data1['Base Shipping Price']\n",
    "\n",
    "# data1['Area1'] = data1['Area1'].round(3)\n",
    "\n",
    "data1['Priceperrep'] =  data1['Price Of Sculpture'] / data1['Base Shipping Price'] \n",
    "\n",
    "data1['Priceperrep'] = data1['Priceperrep'].round(3)\n",
    "\n",
    "data1['repperprice'] =  data1['Artist Reputation'] / data1['Price Of Sculpture'] \n",
    "\n",
    "data1['repperprice'] = data1['repperprice'].round(3)\n",
    "\n",
    "data1['PriceperW'] =  data1['Base Shipping Price'] / data1['Weight'] \n",
    "\n",
    "data1['PriceperW'] = data1['PriceperW'].round(3)\n",
    "\n",
    "data1['Price Of Sculpture'] = data1['Price Of Sculpture'] * data1['Price Of Sculpture']\n",
    "\n",
    "data1['Finalprice'] = 0.5 * data1['Price Of Sculpture'] + 0.5 * data1['Base Shipping Price'] * data1['Base Shipping Price']\n",
    "\n",
    "data1['Dimension'] = 2 * data1['Height'] * data1['Width'] * 1.5 * data1['Weight']\n",
    "\n",
    "\n",
    "data1 = data1.drop(['Artist Name'],axis=1)"
   ]
  },
  {
   "cell_type": "code",
   "execution_count": 19,
   "metadata": {},
   "outputs": [],
   "source": [
    "data1['Scheduled Date'] = pd.to_datetime(data1['Scheduled Date'],format = '%m/%d/%y')\n",
    "\n",
    "data1['Delivery Date'] = pd.to_datetime(data1['Delivery Date'],format='%m/%d/%y')\n",
    "\n",
    "data1['time_diff_days'] = (data1['Scheduled Date'] - data1['Delivery Date']).dt.days\n",
    "\n",
    "data1['time_diff_months'] = (data1['Scheduled Date'].dt.month - data1['Delivery Date'].dt.month)\n",
    "\n",
    "\n",
    "data1['time_diff_month'] = data1['Scheduled Date'].dt.month \n",
    "\n",
    "data1['time_diff_months'] =  data1['Delivery Date'].dt.month\n",
    "\n",
    "data1.drop(['Scheduled Date','Delivery Date'],axis=1,inplace=True)"
   ]
  },
  {
   "cell_type": "code",
   "execution_count": 20,
   "metadata": {},
   "outputs": [],
   "source": [
    "data1['Ratio'] =  data1['PriceperW'] / data1['Priceperrep']\n",
    "\n",
    "data1['Ratio'] = data1['Ratio'].round(2)\n",
    "\n",
    "for i in ['Priceperrep','PriceperW','Ratio']:\n",
    "    data1[i] = data1[i].astype(int)\n",
    "    "
   ]
  },
  {
   "cell_type": "code",
   "execution_count": 21,
   "metadata": {},
   "outputs": [],
   "source": [
    "num = data1.select_dtypes(['int64','float64']).columns\n",
    "\n",
    "num = list(num)\n",
    "\n",
    "num.remove('Cost')\n",
    "      \n"
   ]
  },
  {
   "cell_type": "code",
   "execution_count": 22,
   "metadata": {},
   "outputs": [],
   "source": [
    "# Specify which column to normalize\n",
    "col_to_normalize = ['Price Of Sculpture','Finalprice','Dimension']\n",
    "\n",
    "# Log normalization\n",
    "for i in col_to_normalize:\n",
    "    # Add log normalized column\n",
    "    data1[i] = np.log(data1[i])\n",
    "    \n",
    "    data1[i] = data1[i].round(1)\n",
    "    # Drop the original column\n",
    "\n"
   ]
  },
  {
   "cell_type": "code",
   "execution_count": 23,
   "metadata": {},
   "outputs": [],
   "source": [
    "def state(cell):\n",
    "    try :\n",
    "        cell = cell.split(sep=', ')[1].split()[0]\n",
    "    \n",
    "    except :\n",
    "        cell = cell.split(sep=' ')[1]\n",
    "    \n",
    "    return cell\n",
    "\n",
    "data1['Customer Location']=data1['Customer Location'].apply(state)\n",
    "    "
   ]
  },
  {
   "cell_type": "code",
   "execution_count": null,
   "metadata": {},
   "outputs": [],
   "source": [
    "cat = data1.select_dtypes('object').columns\n",
    "\n",
    "cat = list(cat)"
   ]
  },
  {
   "cell_type": "code",
   "execution_count": null,
   "metadata": {},
   "outputs": [],
   "source": [
    "from sklearn.preprocessing import OrdinalEncoder\n",
    "ord_enc = OrdinalEncoder()\n",
    "\n",
    "for i in cat:\n",
    "    data1[i] = ord_enc.fit_transform(data1[[i]])"
   ]
  },
  {
   "cell_type": "code",
   "execution_count": null,
   "metadata": {},
   "outputs": [],
   "source": [
    "test = data1[data1['Cost']== -1]\n",
    "\n",
    "train = data1[data1['Cost']!= -1]\n",
    "\n",
    "test_l = test.drop(['Cost'],axis=1)\n",
    "\n"
   ]
  },
  {
   "cell_type": "code",
   "execution_count": null,
   "metadata": {},
   "outputs": [],
   "source": [
    "\n",
    "\n",
    "# Specify which column to normalize\n",
    "col_to_normalize = ['Cost']\n",
    "\n",
    "# Log normalization\n",
    "for i in col_to_normalize:\n",
    "    # Add log normalized column\n",
    "    train[i] = np.log(train[i])\n",
    "    train[i] = train[i].round(1)\n",
    "    # Drop the original column\n",
    "\n"
   ]
  },
  {
   "cell_type": "code",
   "execution_count": null,
   "metadata": {},
   "outputs": [],
   "source": [
    "y = train['Cost']\n",
    "x = train.drop(['Cost'],axis=1)"
   ]
  },
  {
   "cell_type": "code",
   "execution_count": null,
   "metadata": {},
   "outputs": [],
   "source": [
    "encoder = MEstimateEncoder(return_df = True,m = 2)\n",
    "encoder.fit(x,y)\n",
    "x = encoder.transform(x)\n",
    "test_l = encoder.transform(test_l)"
   ]
  },
  {
   "cell_type": "code",
   "execution_count": null,
   "metadata": {},
   "outputs": [],
   "source": [
    "def make_mi_scores(x, y):\n",
    "    mi_scores = mutual_info_regression(x, y)\n",
    "    mi_scores = pd.Series(mi_scores, name=\"MI Scores\", index=x.columns)\n",
    "    mi_scores = mi_scores.sort_values(ascending=False)\n",
    "    return mi_scores\n",
    "\n",
    "mi_scores = make_mi_scores(x, y)\n",
    "imp_columns = list(mi_scores.index[:])\n",
    "x = x[imp_columns]\n",
    "test_l = test_l[imp_columns]\n",
    "print(mi_scores)"
   ]
  },
  {
   "cell_type": "code",
   "execution_count": null,
   "metadata": {},
   "outputs": [],
   "source": [
    "from sklearn import model_selection\n",
    "\n",
    "x_train, x_test, y_train, y_test = model_selection.train_test_split(x,y,test_size = 0.20, shuffle = True,random_state = 22)\n",
    "\n",
    "\n"
   ]
  },
  {
   "cell_type": "code",
   "execution_count": null,
   "metadata": {},
   "outputs": [],
   "source": [
    "def score(y_true, y_pred):\n",
    "    y_pred = [(np.exp(x)) for x in [i for i in y_pred]]\n",
    "    y_true = [(np.exp(x)) for x in [i for i in y_true]]\n",
    "    score = 100*max(0, 1-metrics.mean_squared_log_error(y_true, y_pred))\n",
    "    return score"
   ]
  },
  {
   "cell_type": "code",
   "execution_count": null,
   "metadata": {},
   "outputs": [],
   "source": [
    "params = {'n_estimators': 800, 'max_depth': 5, 'learning_rate': 0.16}\n",
    "# regressor = CatBoostRegressor(verbose=0,**params)\n",
    "\n",
    "\n",
    "# params3 = {'learning_rate':0.5, 'max_depth':3, 'min_child_weight':15, 'n_estimators':100, 'n_jobs':1, 'objective':\"reg:squarederror\", 'subsample':0.9000000000000001, 'verbosity':0}\n",
    "# xgb = XGBRegressor(**params3)\n",
    "\n",
    "# rf = RandomForestRegressor(random_state=22,n_jobs = -1,n_estimators = 800,max_depth = 10,min_samples_leaf = 3) \n",
    "  \n",
    "\n",
    "# #regressor = CatBoostRegressor(verbose=0,**params)\n",
    "\n",
    "# cv = cross_val_score(regressor, x,y, scoring = make_scorer(score,greater_is_better = True),cv = 5)\n",
    "\n",
    "# cv\n",
    "# print(np.mean(cv))"
   ]
  },
  {
   "cell_type": "code",
   "execution_count": null,
   "metadata": {},
   "outputs": [],
   "source": [
    "# print(cv)"
   ]
  },
  {
   "cell_type": "code",
   "execution_count": null,
   "metadata": {},
   "outputs": [],
   "source": [
    "#Individual catboost\n",
    "regressor = CatBoostRegressor(**params) \n",
    "  \n",
    "#fit the regressor with x and y data \n",
    "regressor.fit(x, y)\n",
    "\n",
    "y_pred_log = regressor.predict(test_l)\n",
    "\n",
    "y_pred = [(np.exp(x)) for x in [i for i in y_pred_log]]\n",
    "\n",
    "test['Customer Id']=t \n",
    "test['Cost'] = y_pred\n",
    "\n",
    "test[['Customer Id','Cost']].to_csv('retry1.csv',index=False)"
   ]
  },
  {
   "cell_type": "code",
   "execution_count": null,
   "metadata": {},
   "outputs": [],
   "source": [
    "for i in range(len(x[0])):\n",
    "    print(train.columns[i],' ',regressor.feature_importances_[i])"
   ]
  },
  {
   "cell_type": "code",
   "execution_count": null,
   "metadata": {},
   "outputs": [],
   "source": [
    "# #individual xgb\n",
    "# params3 = {'learning_rate':0.5, 'max_depth':3, 'min_child_weight':15, 'n_estimators':100, 'n_jobs':1, 'objective':\"reg:squarederror\", 'subsample':0.9000000000000001, 'verbosity':0}\n",
    "# xgb = XGBRegressor(**params3)\n",
    "\n",
    "# fit the regressor with x and y data \n",
    "# xgb.fit(x, y)\n",
    "\n",
    "# # y_pred_log = xgb.predict(test_l)\n",
    "\n",
    "# # y_pred = [(np.exp(x)) for x in [i for i in y_pred_log]]\n",
    "\n",
    "# # test['Customer Id']=t \n",
    "# # test['Cost'] = y_pred\n",
    "\n",
    "# # test[['Customer Id','Cost']].to_csv('sub11.csv',index=False)"
   ]
  },
  {
   "cell_type": "code",
   "execution_count": null,
   "metadata": {},
   "outputs": [],
   "source": [
    "#individual random forest\n",
    "# from sklearn.ensemble import RandomForestRegressor \n",
    "  \n",
    "#  # create regressor object \n",
    "# rf = RandomForestRegressor(random_state=22) \n",
    "  \n",
    "# # fit the regressor with x and y data \n",
    "# rf.fit(x,y)\n",
    "\n",
    "# y_pred_log = rf.predict(test_l)\n",
    "\n",
    "# y_pred = [(np.exp(x)) for x in [i for i in y_pred_log]]\n",
    "\n",
    "# test['Customer Id']=t \n",
    "# test['Cost'] = y_pred\n",
    "\n",
    "# test[['Customer Id','Cost']].to_csv('sub11.csv',index=False)"
   ]
  },
  {
   "cell_type": "code",
   "execution_count": null,
   "metadata": {},
   "outputs": [],
   "source": [
    "\n",
    "# score = 100*max(0, 1-metrics.mean_squared_log_error(y_test, y_pred))\n",
    "# score\n"
   ]
  },
  {
   "cell_type": "code",
   "execution_count": null,
   "metadata": {},
   "outputs": [],
   "source": [
    "# # params = rs.best_params_\n",
    "# from sklearn.ensemble import StackingRegressor\n",
    "# from sklearn.linear_model import LinearRegression\n",
    "# params = {'n_estimators': 800, 'max_depth': 4, 'learning_rate': 0.16}\n",
    "# params1 = {'n_estimators': 800, 'max_depth': 5, 'learning_rate': 0.16}\n",
    "# params2 = {'n_estimators': 800, 'max_depth': 6, 'learning_rate': 0.16}\n",
    "# #params3 = {'learning_rate':0.5, 'max_depth':3, 'min_child_weight':15, 'n_estimators':100, 'n_jobs':-1, 'objective':\"reg:squarederror\", 'subsample':0.9000000000000001, 'verbosity':0}\n",
    "# #xgb = XGBRegressor(**params3)\n",
    "\n",
    "# regressor = CatBoostRegressor(verbose=0,**params)\n",
    "# regressor1 = CatBoostRegressor(verbose=0,**params1)\n",
    "# regressor2 = CatBoostRegressor(verbose=0,**params2)\n",
    "# #rf = RandomForestRegressor(random_state=22) \n",
    "\n",
    "# est = [('c5',regressor),('c6',regressor1),('c7',regressor2)]\n",
    "# model = StackingRegressor(est,final_estimator = LinearRegression(),n_jobs = -1)\n",
    "\n",
    "# model.fit(x, y)\n",
    "\n",
    "# y_pred_log = model.predict(test_l)\n",
    "\n",
    "# y_pred = [(np.exp(x)) for x in [i for i in y_pred_log]]\n",
    "\n",
    "# test['Customer Id']=t \n",
    "# test['Cost'] = y_pred\n",
    "\n",
    "# test[['Customer Id','Cost']].to_csv('sub20.csv',index=False)"
   ]
  },
  {
   "cell_type": "code",
   "execution_count": null,
   "metadata": {},
   "outputs": [],
   "source": [
    "# b = pd.read_csv('final5.csv')\n",
    "\n",
    "# a = pd.read_csv('final4.csv')\n",
    "\n",
    "# new_cost = 0.5  * a['Cost'] + 0.5 * b['Cost']\n",
    "\n",
    "# c = pd.DataFrame({'Customer Id': a['Customer Id'],'Cost':new_cost})\n",
    "\n",
    "# c.to_csv('final6.csv',index=False)"
   ]
  },
  {
   "cell_type": "code",
   "execution_count": null,
   "metadata": {},
   "outputs": [],
   "source": [
    "# from sklearn.model_selection import RandomizedSearchCV\n",
    "# from scipy.stats import uniform as sp_randFloat\n",
    "# from scipy.stats import randint as sp_randInt\n",
    "# from catboost import CatBoostRegressor\n",
    "\n",
    " \n",
    "\n",
    "# cb = CatBoostRegressor(verbose=0)\n",
    "\n",
    " \n",
    "\n",
    "# parameters = {'max_depth':np.arange(4,20,1), 'learning_rate':np.arange(0.01,0.2,0.01), 'n_estimators':np.arange(100,800,100)}\n",
    "\n",
    " \n",
    "\n",
    "# rs = RandomizedSearchCV(estimator = cb, param_distributions = parameters, scoring=make_scorer(score, greater_is_better = True), cv = 7, n_iter = 10, n_jobs = -1, verbose = 10)\n",
    "\n",
    " \n",
    "\n",
    "# rs.fit(x, y)\n",
    "\n",
    " \n",
    "\n",
    "# print(\"\\n The best estimator across ALL searched params:\\n\",rs.best_estimator_)\n",
    "# print(\"\\n The best score across ALL searched params:\\n\",rs.best_score_)\n",
    "# print(\"\\n The best parameters across ALL searched params:\\n\",rs.best_params_)"
   ]
  }
 ],
 "metadata": {
  "kernelspec": {
   "display_name": "Python 3",
   "language": "python",
   "name": "python3"
  },
  "language_info": {
   "codemirror_mode": {
    "name": "ipython",
    "version": 3
   },
   "file_extension": ".py",
   "mimetype": "text/x-python",
   "name": "python",
   "nbconvert_exporter": "python",
   "pygments_lexer": "ipython3",
   "version": "3.7.7"
  }
 },
 "nbformat": 4,
 "nbformat_minor": 4
}
