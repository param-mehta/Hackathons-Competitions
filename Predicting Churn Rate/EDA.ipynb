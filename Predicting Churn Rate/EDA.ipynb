{
 "cells": [
  {
   "cell_type": "code",
   "execution_count": 1,
   "metadata": {},
   "outputs": [],
   "source": [
    "import pandas as pd\n",
    "import numpy as np\n",
    "import missingno as msno\n",
    "import seaborn as sns\n",
    "import matplotlib.pyplot as plt\n",
    "from sklearn.preprocessing import LabelEncoder\n",
    "from sklearn.preprocessing import OrdinalEncoder\n",
    "from sklearn.model_selection import train_test_split\n",
    "from sklearn.feature_selection import mutual_info_classif\n",
    "from category_encoders import TargetEncoder\n",
    "from category_encoders import MEstimateEncoder\n",
    "from sklearn.model_selection import cross_val_score\n",
    "from sklearn.preprocessing import StandardScaler\n",
    "from itertools import combinations\n",
    "from sklearn.impute import KNNImputer\n",
    "from sklearn.metrics import make_scorer\n",
    "import datetime as dt\n",
    "from datetime import timedelta\n",
    "from sklearn import metrics\n",
    "from catboost import CatBoostClassifier\n",
    "from sklearn.ensemble import RandomForestClassifier\n",
    "from xgboost import XGBClassifier\n",
    "from scipy.special import boxcox,inv_boxcox\n",
    "from sklearn.feature_selection import SelectFromModel\n",
    "\n",
    "import warnings\n",
    "warnings.filterwarnings('ignore')"
   ]
  },
  {
   "cell_type": "code",
   "execution_count": 16,
   "metadata": {},
   "outputs": [],
   "source": [
    "train = pd.read_csv('C:/Users/DELL/Desktop/HackerEarth_Predicting_Churn_Rate/train.csv')\n",
    "test = pd.read_csv('C:/Users/DELL/Desktop/HackerEarth_Predicting_Churn_Rate/test.csv')"
   ]
  },
  {
   "cell_type": "code",
   "execution_count": 17,
   "metadata": {},
   "outputs": [
    {
     "data": {
      "text/plain": [
       " 3    10424\n",
       " 4    10185\n",
       " 5     9827\n",
       " 2     2741\n",
       " 1     2652\n",
       "-1     1163\n",
       "Name: churn_risk_score, dtype: int64"
      ]
     },
     "execution_count": 17,
     "metadata": {},
     "output_type": "execute_result"
    }
   ],
   "source": [
    "train['churn_risk_score'].value_counts()"
   ]
  },
  {
   "cell_type": "code",
   "execution_count": 22,
   "metadata": {},
   "outputs": [
    {
     "data": {
      "text/plain": [
       "(60, 25)"
      ]
     },
     "execution_count": 22,
     "metadata": {},
     "output_type": "execute_result"
    }
   ],
   "source": [
    "train[(train['churn_risk_score'] == -1) & (train['avg_time_spent'] < 0)].shape\n",
    "# train[train['avg_time_spent'] < 0].shape"
   ]
  },
  {
   "cell_type": "code",
   "execution_count": 3,
   "metadata": {},
   "outputs": [],
   "source": [
    "t = test['customer_id']\n",
    "train['churn_risk_score'] = train['churn_risk_score'].abs()\n",
    "# # a = train[train['churn_risk_score'] == -1]\n",
    "# # b = train[train['churn_risk_score'] != -1]"
   ]
  },
  {
   "cell_type": "code",
   "execution_count": 4,
   "metadata": {},
   "outputs": [],
   "source": [
    "test['churn_risk_score'] = -1\n",
    "data = pd.concat([train,test],axis = 0)"
   ]
  },
  {
   "cell_type": "markdown",
   "metadata": {},
   "source": [
    "Identifying hidden NAN values"
   ]
  },
  {
   "cell_type": "code",
   "execution_count": 5,
   "metadata": {},
   "outputs": [],
   "source": [
    "data['joined_through_referral'] = data['joined_through_referral'].replace('?',np.nan)\n",
    "data['medium_of_operation'] = data['medium_of_operation'].replace('?',np.nan)\n",
    "data['avg_frequency_login_days'] = data['avg_frequency_login_days'].replace('Error',np.nan)"
   ]
  },
  {
   "cell_type": "markdown",
   "metadata": {},
   "source": [
    "Applying mod to negative values"
   ]
  },
  {
   "cell_type": "code",
   "execution_count": 6,
   "metadata": {},
   "outputs": [],
   "source": [
    "data['days_since_last_login'] = data['days_since_last_login'].abs()\n",
    "data['avg_time_spent'] = data['avg_time_spent'].abs()\n",
    "data['points_in_wallet'] = data['points_in_wallet'].abs()\n",
    "\n",
    "data['avg_frequency_login_days'] = data['avg_frequency_login_days'].astype(float)\n",
    "data['avg_frequency_login_days'] = data['avg_frequency_login_days'].abs()"
   ]
  },
  {
   "cell_type": "markdown",
   "metadata": {},
   "source": [
    "Extracting dates"
   ]
  },
  {
   "cell_type": "code",
   "execution_count": 7,
   "metadata": {},
   "outputs": [],
   "source": [
    "data['joining_date'] = pd.to_datetime(data['joining_date'],infer_datetime_format = True)\n",
    "data['last_visit_time'] = pd.to_datetime(data['last_visit_time'],format = '%H:%M:%S').dt.hour"
   ]
  },
  {
   "cell_type": "code",
   "execution_count": 8,
   "metadata": {},
   "outputs": [],
   "source": [
    "a = data['joining_date'].max()\n",
    "data['days_since_joined'] = a - data['joining_date']\n",
    "data['days_since_joined'] = data['days_since_joined'].dt.days\n",
    "data = data.drop(['Name','customer_id','security_no','referral_id','joining_date'],axis=1)"
   ]
  },
  {
   "cell_type": "markdown",
   "metadata": {},
   "source": [
    "Removing missing values"
   ]
  },
  {
   "cell_type": "code",
   "execution_count": 9,
   "metadata": {},
   "outputs": [],
   "source": [
    "data.fillna({'region_category':data['region_category'].mode()[0]\\\n",
    "              ,'joined_through_referral':data['joined_through_referral'].mode()[0],'preferred_offer_types':data['preferred_offer_types'].mode()[0]\\\n",
    "              ,'medium_of_operation':data['medium_of_operation'].mode()[0]}, inplace=True)\n",
    "\n",
    "\n",
    "data.fillna({'points_in_wallet':data['points_in_wallet'].mean(),'avg_frequency_login_days':data['avg_frequency_login_days'].mean()},inplace = True)"
   ]
  },
  {
   "cell_type": "code",
   "execution_count": 10,
   "metadata": {},
   "outputs": [],
   "source": [
    "categorical = data.select_dtypes('object').columns\n",
    "for col in categorical:\n",
    "    data[col] = data[col].astype(str)"
   ]
  },
  {
   "cell_type": "code",
   "execution_count": 11,
   "metadata": {},
   "outputs": [],
   "source": [
    "data['days_since_last_login'] = data['days_since_last_login'].replace(999,30)"
   ]
  },
  {
   "cell_type": "code",
   "execution_count": 12,
   "metadata": {},
   "outputs": [],
   "source": [
    "data['avg_login_days'] = data['days_since_joined'] / data['avg_frequency_login_days']"
   ]
  },
  {
   "cell_type": "code",
   "execution_count": 13,
   "metadata": {},
   "outputs": [],
   "source": [
    "data['x'] = data['days_since_last_login'] - data['avg_login_days']\n",
    "# # le = LabelEncoder()\n",
    "# # data['x'] = le.fit_transform(data[['x']])"
   ]
  },
  {
   "cell_type": "code",
   "execution_count": 14,
   "metadata": {},
   "outputs": [],
   "source": [
    "# data['x'].value_counts()"
   ]
  },
  {
   "cell_type": "markdown",
   "metadata": {},
   "source": [
    "Feature engineering"
   ]
  },
  {
   "cell_type": "code",
   "execution_count": null,
   "metadata": {},
   "outputs": [],
   "source": [
    "# label_ranges = [i for i in range(0,24,4)]\n",
    "# label_names = [i for i in range(5)]\n",
    "# data['last_visit_time'] = pd.cut(data['last_visit_time'], bins = label_ranges, labels = label_names)"
   ]
  },
  {
   "cell_type": "code",
   "execution_count": null,
   "metadata": {},
   "outputs": [],
   "source": [
    "# num = ['avg_transaction_value','points_in_wallet','avg_frequency_login_days','avg_time_spent']\n",
    "# numdata = data[num]\n",
    "# trans = PolynomialFeatures(degree=2)\n",
    "# numdata = trans.fit_transform(numdata)\n",
    "# numdata = pd.DataFrame(numdata)\n",
    "# #for i in list(numdata.columns):\n",
    "# #    numdata[i] = np.log(numdata[i])\n",
    "# #    numdata[i] = numdata[i].round(1)\n"
   ]
  },
  {
   "cell_type": "code",
   "execution_count": null,
   "metadata": {},
   "outputs": [],
   "source": [
    "# data.reset_index(drop=True, inplace=True)\n",
    "# numdata.reset_index(drop=True, inplace=True)\n",
    "# data = pd.concat([data,numdata],axis = 1)\n",
    "# data = data.join(numdata)"
   ]
  },
  {
   "cell_type": "code",
   "execution_count": null,
   "metadata": {},
   "outputs": [],
   "source": [
    "# from scipy.cluster.vq import kmeans, vq\n",
    "# cluster_centers,_ = kmeans(data['avg_time_spent'],3)\n",
    "# data['ats_labels'], _ = vq(data['avg_time_spent'],cluster_centers)\n",
    "\n",
    "# cluster_centers,_ = kmeans(data['avg_transaction_value'],4)\n",
    "# data['atv_labels'], _ = vq(data['avg_transaction_value'],cluster_centers)\n",
    "\n",
    "# cluster_centers,_ = kmeans(data['points_in_wallet'],3)\n",
    "# data['piw_labels'], _ = vq(data['points_in_wallet'],cluster_centers)"
   ]
  },
  {
   "cell_type": "code",
   "execution_count": null,
   "metadata": {},
   "outputs": [],
   "source": [
    "# data['combo3'] = data['ats_labels'] + data['atv_labels'] + data['piw_labels']"
   ]
  },
  {
   "cell_type": "code",
   "execution_count": null,
   "metadata": {},
   "outputs": [],
   "source": [
    "# def make_mi_scores(x, y):\n",
    "#     mi_scores = mutual_info_classif(x, y)\n",
    "#     mi_scores = pd.Series(mi_scores, name=\"MI Scores\", index=x.columns)\n",
    "#     mi_scores = mi_scores.sort_values(ascending=False)\n",
    "#     return mi_scores\n",
    "\n",
    "# mi_scores = make_mi_scores(x, y)\n",
    "# imp_columns = list(mi_scores.index[:])\n",
    "# x = x[imp_columns]\n",
    "# test = test[imp_columns]\n",
    "# print(mi_scores)"
   ]
  },
  {
   "cell_type": "code",
   "execution_count": null,
   "metadata": {},
   "outputs": [],
   "source": [
    "# distortions = []\n",
    "# num_clusters = range(2,7)\n",
    "# for i in num_clusters:\n",
    "#     centroids, distortion = kmeans(data['points_in_wallet'],i)\n",
    "#     distortions.append(distortion)\n",
    "\n",
    "# elbow = pd.DataFrame({'num_clusters':num_clusters,'distortions':distortions})\n",
    "# elbow.plot(kind = 'line',x = 'num_clusters', y = 'distortions')  "
   ]
  },
  {
   "cell_type": "code",
   "execution_count": null,
   "metadata": {},
   "outputs": [],
   "source": [
    "cluster_centers,_ = kmeans(data['days_since_last_login'],5)\n",
    "data['dsll'], _ = vq(data['days_since_last_login'],cluster_centers)\n",
    "data['dsll'] = data['dsll'].astype(str)\n",
    "\n",
    "# cluster_centers,_ = kmeans(data['age'],4)\n",
    "# data['age1'], _ = vq(data['age'],cluster_centers)\n",
    "# data['ag1'] = data['age1'].astype(str)\n",
    "\n",
    "cluster_centers,_ = kmeans(data['days_since_joined'],4)\n",
    "data['dsj'], _ = vq(data['days_since_joined'],cluster_centers)\n",
    "data['dsj'] = data['dsj'].astype(str)\n",
    "\n",
    "cluster_centers,_ = kmeans(data['avg_frequency_login_days'],3)\n",
    "data['ald'], _ = vq(data['avg_frequency_login_days'],cluster_centers)\n",
    "data['ald'] = data['ald'].astype(str)\n",
    "\n",
    "cluster_centers,_ = kmeans(data['last_visit_time'],4)\n",
    "data['lvt'], _ = vq(data['last_visit_time'],cluster_centers)\n",
    "data['lvt'] = data['lvt'].astype(str)\n"
   ]
  },
  {
   "cell_type": "code",
   "execution_count": null,
   "metadata": {},
   "outputs": [],
   "source": [
    "# categorical = data.select_dtypes('object').columns\n",
    "# combo = combinations(categorical,3) # 2 degree combinations\n",
    "# for i, j,k in combo:\n",
    "#     data[i + '_' + j + '_' + k] = data[i].astype(str) + '_' + data[j].astype(str) + '_' + data[k].astype(str)"
   ]
  },
  {
   "cell_type": "code",
   "execution_count": null,
   "metadata": {},
   "outputs": [],
   "source": []
  },
  {
   "cell_type": "code",
   "execution_count": 14,
   "metadata": {},
   "outputs": [
    {
     "data": {
      "text/plain": [
       "Desktop       29733\n",
       "Smartphone    21281\n",
       "Both           5897\n",
       "Name: medium_of_operation, dtype: int64"
      ]
     },
     "execution_count": 14,
     "metadata": {},
     "output_type": "execute_result"
    }
   ],
   "source": [
    "data['medium_of_operation'].value_counts()"
   ]
  },
  {
   "cell_type": "code",
   "execution_count": 15,
   "metadata": {},
   "outputs": [
    {
     "data": {
      "text/plain": [
       "(3021, 23)"
      ]
     },
     "execution_count": 15,
     "metadata": {},
     "output_type": "execute_result"
    }
   ],
   "source": [
    "data[data['days_since_last_login'] == 30].shape"
   ]
  },
  {
   "cell_type": "code",
   "execution_count": 54,
   "metadata": {},
   "outputs": [
    {
     "data": {
      "text/plain": [
       "3    0.281791\n",
       "4    0.275330\n",
       "5    0.265652\n",
       "1    0.103130\n",
       "2    0.074097\n",
       "Name: churn_risk_score, dtype: float64"
      ]
     },
     "execution_count": 54,
     "metadata": {},
     "output_type": "execute_result"
    }
   ],
   "source": [
    "train['churn_risk_score'].value_counts('normalize = True')"
   ]
  },
  {
   "cell_type": "code",
   "execution_count": 57,
   "metadata": {},
   "outputs": [
    {
     "data": {
      "text/plain": [
       "4    3409\n",
       "3    3403\n",
       "5    3258\n",
       "1    1278\n",
       "2     888\n",
       "Name: churn_risk_score, dtype: int64"
      ]
     },
     "execution_count": 57,
     "metadata": {},
     "output_type": "execute_result"
    }
   ],
   "source": [
    "train[train['internet_option'] == 'Fiber_Optic']['churn_risk_score'].value_counts()"
   ]
  },
  {
   "cell_type": "code",
   "execution_count": 56,
   "metadata": {},
   "outputs": [
    {
     "data": {
      "text/plain": [
       "Fiber_Optic    6747\n",
       "Wi-Fi          6599\n",
       "Mobile_Data    6573\n",
       "Name: internet_option, dtype: int64"
      ]
     },
     "execution_count": 56,
     "metadata": {},
     "output_type": "execute_result"
    }
   ],
   "source": [
    "test['internet_option'].value_counts()"
   ]
  },
  {
   "cell_type": "code",
   "execution_count": 53,
   "metadata": {},
   "outputs": [
    {
     "data": {
      "text/html": [
       "<div>\n",
       "<style scoped>\n",
       "    .dataframe tbody tr th:only-of-type {\n",
       "        vertical-align: middle;\n",
       "    }\n",
       "\n",
       "    .dataframe tbody tr th {\n",
       "        vertical-align: top;\n",
       "    }\n",
       "\n",
       "    .dataframe thead th {\n",
       "        text-align: right;\n",
       "    }\n",
       "</style>\n",
       "<table border=\"1\" class=\"dataframe\">\n",
       "  <thead>\n",
       "    <tr style=\"text-align: right;\">\n",
       "      <th>internet_option</th>\n",
       "      <th>Fiber_Optic</th>\n",
       "      <th>Mobile_Data</th>\n",
       "      <th>Wi-Fi</th>\n",
       "    </tr>\n",
       "    <tr>\n",
       "      <th>churn_risk_score</th>\n",
       "      <th></th>\n",
       "      <th></th>\n",
       "      <th></th>\n",
       "    </tr>\n",
       "  </thead>\n",
       "  <tbody>\n",
       "    <tr>\n",
       "      <th>-1</th>\n",
       "      <td>6747</td>\n",
       "      <td>6573</td>\n",
       "      <td>6599</td>\n",
       "    </tr>\n",
       "    <tr>\n",
       "      <th>1</th>\n",
       "      <td>1278</td>\n",
       "      <td>1292</td>\n",
       "      <td>1245</td>\n",
       "    </tr>\n",
       "    <tr>\n",
       "      <th>2</th>\n",
       "      <td>888</td>\n",
       "      <td>918</td>\n",
       "      <td>935</td>\n",
       "    </tr>\n",
       "    <tr>\n",
       "      <th>3</th>\n",
       "      <td>3403</td>\n",
       "      <td>3438</td>\n",
       "      <td>3583</td>\n",
       "    </tr>\n",
       "    <tr>\n",
       "      <th>4</th>\n",
       "      <td>3409</td>\n",
       "      <td>3372</td>\n",
       "      <td>3404</td>\n",
       "    </tr>\n",
       "    <tr>\n",
       "      <th>5</th>\n",
       "      <td>3258</td>\n",
       "      <td>3323</td>\n",
       "      <td>3246</td>\n",
       "    </tr>\n",
       "  </tbody>\n",
       "</table>\n",
       "</div>"
      ],
      "text/plain": [
       "internet_option   Fiber_Optic  Mobile_Data  Wi-Fi\n",
       "churn_risk_score                                 \n",
       "-1                       6747         6573   6599\n",
       " 1                       1278         1292   1245\n",
       " 2                        888          918    935\n",
       " 3                       3403         3438   3583\n",
       " 4                       3409         3372   3404\n",
       " 5                       3258         3323   3246"
      ]
     },
     "execution_count": 53,
     "metadata": {},
     "output_type": "execute_result"
    }
   ],
   "source": [
    "pd.crosstab(data['churn_risk_score'],data['internet_option'])"
   ]
  },
  {
   "cell_type": "code",
   "execution_count": null,
   "metadata": {},
   "outputs": [],
   "source": []
  },
  {
   "cell_type": "code",
   "execution_count": 15,
   "metadata": {},
   "outputs": [
    {
     "data": {
      "text/plain": [
       "Poor Product Quality        9724\n",
       "No reason specified         9713\n",
       "Too many ads                9680\n",
       "Poor Customer Service       9662\n",
       "Poor Website                9572\n",
       "Reasonable Price            2205\n",
       "Products always in Stock    2160\n",
       "Quality Customer Care       2115\n",
       "User Friendly Website       2080\n",
       "Name: feedback, dtype: int64"
      ]
     },
     "execution_count": 15,
     "metadata": {},
     "output_type": "execute_result"
    }
   ],
   "source": [
    "data['feedback'].value_counts()"
   ]
  },
  {
   "cell_type": "code",
   "execution_count": 16,
   "metadata": {},
   "outputs": [
    {
     "data": {
      "text/html": [
       "<div>\n",
       "<style scoped>\n",
       "    .dataframe tbody tr th:only-of-type {\n",
       "        vertical-align: middle;\n",
       "    }\n",
       "\n",
       "    .dataframe tbody tr th {\n",
       "        vertical-align: top;\n",
       "    }\n",
       "\n",
       "    .dataframe thead th {\n",
       "        text-align: right;\n",
       "    }\n",
       "</style>\n",
       "<table border=\"1\" class=\"dataframe\">\n",
       "  <thead>\n",
       "    <tr style=\"text-align: right;\">\n",
       "      <th>feedback</th>\n",
       "      <th>No reason specified</th>\n",
       "      <th>Poor Customer Service</th>\n",
       "      <th>Poor Product Quality</th>\n",
       "      <th>Poor Website</th>\n",
       "      <th>Products always in Stock</th>\n",
       "      <th>Quality Customer Care</th>\n",
       "      <th>Reasonable Price</th>\n",
       "      <th>Too many ads</th>\n",
       "      <th>User Friendly Website</th>\n",
       "    </tr>\n",
       "    <tr>\n",
       "      <th>churn_risk_score</th>\n",
       "      <th></th>\n",
       "      <th></th>\n",
       "      <th></th>\n",
       "      <th></th>\n",
       "      <th></th>\n",
       "      <th></th>\n",
       "      <th></th>\n",
       "      <th></th>\n",
       "      <th></th>\n",
       "    </tr>\n",
       "  </thead>\n",
       "  <tbody>\n",
       "    <tr>\n",
       "      <th>-1</th>\n",
       "      <td>3423</td>\n",
       "      <td>3410</td>\n",
       "      <td>3374</td>\n",
       "      <td>3301</td>\n",
       "      <td>778</td>\n",
       "      <td>755</td>\n",
       "      <td>788</td>\n",
       "      <td>3401</td>\n",
       "      <td>689</td>\n",
       "    </tr>\n",
       "    <tr>\n",
       "      <th>1</th>\n",
       "      <td>218</td>\n",
       "      <td>196</td>\n",
       "      <td>198</td>\n",
       "      <td>211</td>\n",
       "      <td>715</td>\n",
       "      <td>666</td>\n",
       "      <td>732</td>\n",
       "      <td>183</td>\n",
       "      <td>696</td>\n",
       "    </tr>\n",
       "    <tr>\n",
       "      <th>2</th>\n",
       "      <td>0</td>\n",
       "      <td>0</td>\n",
       "      <td>0</td>\n",
       "      <td>0</td>\n",
       "      <td>667</td>\n",
       "      <td>694</td>\n",
       "      <td>685</td>\n",
       "      <td>0</td>\n",
       "      <td>695</td>\n",
       "    </tr>\n",
       "    <tr>\n",
       "      <th>3</th>\n",
       "      <td>2078</td>\n",
       "      <td>2064</td>\n",
       "      <td>2025</td>\n",
       "      <td>2098</td>\n",
       "      <td>0</td>\n",
       "      <td>0</td>\n",
       "      <td>0</td>\n",
       "      <td>2159</td>\n",
       "      <td>0</td>\n",
       "    </tr>\n",
       "    <tr>\n",
       "      <th>4</th>\n",
       "      <td>1996</td>\n",
       "      <td>2040</td>\n",
       "      <td>2120</td>\n",
       "      <td>2061</td>\n",
       "      <td>0</td>\n",
       "      <td>0</td>\n",
       "      <td>0</td>\n",
       "      <td>1968</td>\n",
       "      <td>0</td>\n",
       "    </tr>\n",
       "    <tr>\n",
       "      <th>5</th>\n",
       "      <td>1998</td>\n",
       "      <td>1952</td>\n",
       "      <td>2007</td>\n",
       "      <td>1901</td>\n",
       "      <td>0</td>\n",
       "      <td>0</td>\n",
       "      <td>0</td>\n",
       "      <td>1969</td>\n",
       "      <td>0</td>\n",
       "    </tr>\n",
       "  </tbody>\n",
       "</table>\n",
       "</div>"
      ],
      "text/plain": [
       "feedback          No reason specified  Poor Customer Service  \\\n",
       "churn_risk_score                                               \n",
       "-1                               3423                   3410   \n",
       " 1                                218                    196   \n",
       " 2                                  0                      0   \n",
       " 3                               2078                   2064   \n",
       " 4                               1996                   2040   \n",
       " 5                               1998                   1952   \n",
       "\n",
       "feedback          Poor Product Quality  Poor Website  \\\n",
       "churn_risk_score                                       \n",
       "-1                                3374          3301   \n",
       " 1                                 198           211   \n",
       " 2                                   0             0   \n",
       " 3                                2025          2098   \n",
       " 4                                2120          2061   \n",
       " 5                                2007          1901   \n",
       "\n",
       "feedback          Products always in Stock  Quality Customer Care  \\\n",
       "churn_risk_score                                                    \n",
       "-1                                     778                    755   \n",
       " 1                                     715                    666   \n",
       " 2                                     667                    694   \n",
       " 3                                       0                      0   \n",
       " 4                                       0                      0   \n",
       " 5                                       0                      0   \n",
       "\n",
       "feedback          Reasonable Price  Too many ads  User Friendly Website  \n",
       "churn_risk_score                                                         \n",
       "-1                             788          3401                    689  \n",
       " 1                             732           183                    696  \n",
       " 2                             685             0                    695  \n",
       " 3                               0          2159                      0  \n",
       " 4                               0          1968                      0  \n",
       " 5                               0          1969                      0  "
      ]
     },
     "execution_count": 16,
     "metadata": {},
     "output_type": "execute_result"
    }
   ],
   "source": [
    "pd.crosstab(data['churn_risk_score'],data['feedback'])"
   ]
  },
  {
   "cell_type": "code",
   "execution_count": 17,
   "metadata": {},
   "outputs": [
    {
     "data": {
      "text/plain": [
       "Not Applicable              28552\n",
       "Solved in Follow-up          7167\n",
       "No Information Available     7100\n",
       "Unsolved                     7096\n",
       "Solved                       6996\n",
       "Name: complaint_status, dtype: int64"
      ]
     },
     "execution_count": 17,
     "metadata": {},
     "output_type": "execute_result"
    }
   ],
   "source": [
    "data['complaint_status'].value_counts()"
   ]
  },
  {
   "cell_type": "code",
   "execution_count": 58,
   "metadata": {},
   "outputs": [
    {
     "data": {
      "text/plain": [
       "No     28552\n",
       "Yes    28359\n",
       "Name: past_complaint, dtype: int64"
      ]
     },
     "execution_count": 58,
     "metadata": {},
     "output_type": "execute_result"
    }
   ],
   "source": [
    "data['past_complaint'].value_counts()"
   ]
  },
  {
   "cell_type": "code",
   "execution_count": 18,
   "metadata": {},
   "outputs": [],
   "source": [
    "z = data[data['complaint_status'] == 'Unsolved']\n",
    "z = z[(z['complaint_status'] != 'Products always in Stock') & (z['complaint_status'] != 'Quality Customer Care') & (z['complaint_status'] != 'Reasonable Price') & (z['complaint_status'] != 'Too many ads') & (z['complaint_status'] != 'User Friendly Website')]"
   ]
  },
  {
   "cell_type": "code",
   "execution_count": 19,
   "metadata": {},
   "outputs": [
    {
     "data": {
      "text/plain": [
       "-1    0.350003\n",
       " 3    0.183163\n",
       " 4    0.178964\n",
       " 5    0.172673\n",
       " 1    0.067034\n",
       " 2    0.048163\n",
       "Name: churn_risk_score, dtype: float64"
      ]
     },
     "execution_count": 19,
     "metadata": {},
     "output_type": "execute_result"
    }
   ],
   "source": [
    "data['churn_risk_score'].value_counts(normalize = True)"
   ]
  },
  {
   "cell_type": "code",
   "execution_count": 20,
   "metadata": {},
   "outputs": [
    {
     "data": {
      "text/plain": [
       "-1    0.345547\n",
       " 3    0.187289\n",
       " 4    0.176015\n",
       " 5    0.175028\n",
       " 1    0.068207\n",
       " 2    0.047914\n",
       "Name: churn_risk_score, dtype: float64"
      ]
     },
     "execution_count": 20,
     "metadata": {},
     "output_type": "execute_result"
    }
   ],
   "source": [
    "z['churn_risk_score'].value_counts(normalize = True)"
   ]
  },
  {
   "cell_type": "code",
   "execution_count": 21,
   "metadata": {},
   "outputs": [
    {
     "data": {
      "text/html": [
       "<div>\n",
       "<style scoped>\n",
       "    .dataframe tbody tr th:only-of-type {\n",
       "        vertical-align: middle;\n",
       "    }\n",
       "\n",
       "    .dataframe tbody tr th {\n",
       "        vertical-align: top;\n",
       "    }\n",
       "\n",
       "    .dataframe thead th {\n",
       "        text-align: right;\n",
       "    }\n",
       "</style>\n",
       "<table border=\"1\" class=\"dataframe\">\n",
       "  <thead>\n",
       "    <tr style=\"text-align: right;\">\n",
       "      <th>churn_risk_score</th>\n",
       "      <th>-1</th>\n",
       "      <th>1</th>\n",
       "      <th>2</th>\n",
       "      <th>3</th>\n",
       "      <th>4</th>\n",
       "      <th>5</th>\n",
       "    </tr>\n",
       "    <tr>\n",
       "      <th>complaint_status</th>\n",
       "      <th></th>\n",
       "      <th></th>\n",
       "      <th></th>\n",
       "      <th></th>\n",
       "      <th></th>\n",
       "      <th></th>\n",
       "    </tr>\n",
       "  </thead>\n",
       "  <tbody>\n",
       "    <tr>\n",
       "      <th>Unsolved</th>\n",
       "      <td>2452</td>\n",
       "      <td>484</td>\n",
       "      <td>340</td>\n",
       "      <td>1329</td>\n",
       "      <td>1249</td>\n",
       "      <td>1242</td>\n",
       "    </tr>\n",
       "  </tbody>\n",
       "</table>\n",
       "</div>"
      ],
      "text/plain": [
       "churn_risk_score    -1    1    2     3     4     5\n",
       "complaint_status                                  \n",
       "Unsolved          2452  484  340  1329  1249  1242"
      ]
     },
     "execution_count": 21,
     "metadata": {},
     "output_type": "execute_result"
    }
   ],
   "source": [
    "pd.crosstab(z['complaint_status'],z['churn_risk_score'])"
   ]
  },
  {
   "cell_type": "code",
   "execution_count": 22,
   "metadata": {},
   "outputs": [],
   "source": [
    "# mask = (data['complaint_status'].isin['Unsolved']) & !(data['feedback'].isin['Products always in Stock','Quality Customer Care','Reasonable Price','Too many ads','User Friednly Website'])\n"
   ]
  },
  {
   "cell_type": "markdown",
   "metadata": {},
   "source": [
    "Checking the distribution of data"
   ]
  },
  {
   "cell_type": "code",
   "execution_count": 23,
   "metadata": {},
   "outputs": [],
   "source": [
    "col_to_normalize = ['avg_time_spent']\n",
    "for i in col_to_normalize:\n",
    "    data[i] = np.log(data[i])\n",
    "    data[i] = data[i].round(1)"
   ]
  },
  {
   "cell_type": "code",
   "execution_count": 24,
   "metadata": {},
   "outputs": [],
   "source": [
    "# cor = data.corr()\n",
    "# sns.heatmap(cor,annot = True)"
   ]
  },
  {
   "cell_type": "markdown",
   "metadata": {},
   "source": [
    "Polynomial combinations of numerical features"
   ]
  },
  {
   "cell_type": "code",
   "execution_count": 25,
   "metadata": {},
   "outputs": [],
   "source": [
    "# trans = PolynomialFeatures(degree=2)\n",
    "# data = trans.fit_transform(data)"
   ]
  },
  {
   "cell_type": "markdown",
   "metadata": {},
   "source": [
    "Combining categorical features"
   ]
  },
  {
   "cell_type": "code",
   "execution_count": 26,
   "metadata": {},
   "outputs": [],
   "source": [
    "# categorical = data.select_dtypes('object').columns\n",
    "# combo = combinations(categorical,2) # 2 degree combinations\n",
    "# for i, j in combo:\n",
    "#     data[i + '_' + j] = data[i].astype(str) + '_' + data[j].astype(str)"
   ]
  },
  {
   "cell_type": "markdown",
   "metadata": {},
   "source": [
    "Encoding"
   ]
  },
  {
   "cell_type": "code",
   "execution_count": 27,
   "metadata": {},
   "outputs": [],
   "source": [
    "categorical = list(data.select_dtypes('object').columns)\n",
    "le = LabelEncoder()\n",
    "for col in categorical:\n",
    "    data[col] = le.fit_transform(data[[col]])\n"
   ]
  },
  {
   "cell_type": "code",
   "execution_count": 28,
   "metadata": {},
   "outputs": [],
   "source": [
    "test = data[data['churn_risk_score']== -1]\n",
    "train = data[data['churn_risk_score']!= -1]\n",
    "test = test.drop(['churn_risk_score'],axis=1)"
   ]
  },
  {
   "cell_type": "code",
   "execution_count": 29,
   "metadata": {},
   "outputs": [],
   "source": [
    "y = train['churn_risk_score']\n",
    "x = train.drop(['churn_risk_score'],axis=1)"
   ]
  },
  {
   "cell_type": "code",
   "execution_count": 30,
   "metadata": {},
   "outputs": [
    {
     "data": {
      "text/html": [
       "<div>\n",
       "<style scoped>\n",
       "    .dataframe tbody tr th:only-of-type {\n",
       "        vertical-align: middle;\n",
       "    }\n",
       "\n",
       "    .dataframe tbody tr th {\n",
       "        vertical-align: top;\n",
       "    }\n",
       "\n",
       "    .dataframe thead th {\n",
       "        text-align: right;\n",
       "    }\n",
       "</style>\n",
       "<table border=\"1\" class=\"dataframe\">\n",
       "  <thead>\n",
       "    <tr style=\"text-align: right;\">\n",
       "      <th></th>\n",
       "      <th>age</th>\n",
       "      <th>gender</th>\n",
       "      <th>region_category</th>\n",
       "      <th>membership_category</th>\n",
       "      <th>joined_through_referral</th>\n",
       "      <th>preferred_offer_types</th>\n",
       "      <th>medium_of_operation</th>\n",
       "      <th>internet_option</th>\n",
       "      <th>last_visit_time</th>\n",
       "      <th>days_since_last_login</th>\n",
       "      <th>...</th>\n",
       "      <th>avg_frequency_login_days</th>\n",
       "      <th>points_in_wallet</th>\n",
       "      <th>used_special_discount</th>\n",
       "      <th>offer_application_preference</th>\n",
       "      <th>past_complaint</th>\n",
       "      <th>complaint_status</th>\n",
       "      <th>feedback</th>\n",
       "      <th>days_since_joined</th>\n",
       "      <th>avg_login_days</th>\n",
       "      <th>x</th>\n",
       "    </tr>\n",
       "  </thead>\n",
       "  <tbody>\n",
       "    <tr>\n",
       "      <th>0</th>\n",
       "      <td>18</td>\n",
       "      <td>0</td>\n",
       "      <td>2</td>\n",
       "      <td>3</td>\n",
       "      <td>0</td>\n",
       "      <td>1</td>\n",
       "      <td>1</td>\n",
       "      <td>2</td>\n",
       "      <td>16</td>\n",
       "      <td>17</td>\n",
       "      <td>...</td>\n",
       "      <td>17.0</td>\n",
       "      <td>781.750000</td>\n",
       "      <td>1</td>\n",
       "      <td>1</td>\n",
       "      <td>0</td>\n",
       "      <td>1</td>\n",
       "      <td>4</td>\n",
       "      <td>136</td>\n",
       "      <td>8.000000</td>\n",
       "      <td>9.000000</td>\n",
       "    </tr>\n",
       "    <tr>\n",
       "      <th>1</th>\n",
       "      <td>32</td>\n",
       "      <td>0</td>\n",
       "      <td>0</td>\n",
       "      <td>4</td>\n",
       "      <td>1</td>\n",
       "      <td>1</td>\n",
       "      <td>1</td>\n",
       "      <td>1</td>\n",
       "      <td>12</td>\n",
       "      <td>16</td>\n",
       "      <td>...</td>\n",
       "      <td>10.0</td>\n",
       "      <td>687.771646</td>\n",
       "      <td>1</td>\n",
       "      <td>0</td>\n",
       "      <td>1</td>\n",
       "      <td>2</td>\n",
       "      <td>5</td>\n",
       "      <td>125</td>\n",
       "      <td>12.500000</td>\n",
       "      <td>3.500000</td>\n",
       "    </tr>\n",
       "    <tr>\n",
       "      <th>2</th>\n",
       "      <td>44</td>\n",
       "      <td>0</td>\n",
       "      <td>1</td>\n",
       "      <td>2</td>\n",
       "      <td>1</td>\n",
       "      <td>1</td>\n",
       "      <td>1</td>\n",
       "      <td>2</td>\n",
       "      <td>22</td>\n",
       "      <td>14</td>\n",
       "      <td>...</td>\n",
       "      <td>22.0</td>\n",
       "      <td>500.690000</td>\n",
       "      <td>0</td>\n",
       "      <td>1</td>\n",
       "      <td>1</td>\n",
       "      <td>3</td>\n",
       "      <td>3</td>\n",
       "      <td>415</td>\n",
       "      <td>18.863636</td>\n",
       "      <td>-4.863636</td>\n",
       "    </tr>\n",
       "    <tr>\n",
       "      <th>3</th>\n",
       "      <td>37</td>\n",
       "      <td>1</td>\n",
       "      <td>0</td>\n",
       "      <td>2</td>\n",
       "      <td>1</td>\n",
       "      <td>1</td>\n",
       "      <td>1</td>\n",
       "      <td>1</td>\n",
       "      <td>15</td>\n",
       "      <td>11</td>\n",
       "      <td>...</td>\n",
       "      <td>6.0</td>\n",
       "      <td>567.660000</td>\n",
       "      <td>0</td>\n",
       "      <td>1</td>\n",
       "      <td>1</td>\n",
       "      <td>4</td>\n",
       "      <td>3</td>\n",
       "      <td>428</td>\n",
       "      <td>71.333333</td>\n",
       "      <td>-60.333333</td>\n",
       "    </tr>\n",
       "    <tr>\n",
       "      <th>4</th>\n",
       "      <td>31</td>\n",
       "      <td>0</td>\n",
       "      <td>0</td>\n",
       "      <td>2</td>\n",
       "      <td>0</td>\n",
       "      <td>0</td>\n",
       "      <td>2</td>\n",
       "      <td>1</td>\n",
       "      <td>15</td>\n",
       "      <td>20</td>\n",
       "      <td>...</td>\n",
       "      <td>16.0</td>\n",
       "      <td>663.060000</td>\n",
       "      <td>0</td>\n",
       "      <td>1</td>\n",
       "      <td>1</td>\n",
       "      <td>2</td>\n",
       "      <td>3</td>\n",
       "      <td>110</td>\n",
       "      <td>6.875000</td>\n",
       "      <td>13.125000</td>\n",
       "    </tr>\n",
       "  </tbody>\n",
       "</table>\n",
       "<p>5 rows × 22 columns</p>\n",
       "</div>"
      ],
      "text/plain": [
       "   age  gender  region_category  membership_category  joined_through_referral  \\\n",
       "0   18       0                2                    3                        0   \n",
       "1   32       0                0                    4                        1   \n",
       "2   44       0                1                    2                        1   \n",
       "3   37       1                0                    2                        1   \n",
       "4   31       0                0                    2                        0   \n",
       "\n",
       "   preferred_offer_types  medium_of_operation  internet_option  \\\n",
       "0                      1                    1                2   \n",
       "1                      1                    1                1   \n",
       "2                      1                    1                2   \n",
       "3                      1                    1                1   \n",
       "4                      0                    2                1   \n",
       "\n",
       "   last_visit_time  days_since_last_login  ...  avg_frequency_login_days  \\\n",
       "0               16                     17  ...                      17.0   \n",
       "1               12                     16  ...                      10.0   \n",
       "2               22                     14  ...                      22.0   \n",
       "3               15                     11  ...                       6.0   \n",
       "4               15                     20  ...                      16.0   \n",
       "\n",
       "   points_in_wallet  used_special_discount  offer_application_preference  \\\n",
       "0        781.750000                      1                             1   \n",
       "1        687.771646                      1                             0   \n",
       "2        500.690000                      0                             1   \n",
       "3        567.660000                      0                             1   \n",
       "4        663.060000                      0                             1   \n",
       "\n",
       "   past_complaint  complaint_status  feedback  days_since_joined  \\\n",
       "0               0                 1         4                136   \n",
       "1               1                 2         5                125   \n",
       "2               1                 3         3                415   \n",
       "3               1                 4         3                428   \n",
       "4               1                 2         3                110   \n",
       "\n",
       "   avg_login_days          x  \n",
       "0        8.000000   9.000000  \n",
       "1       12.500000   3.500000  \n",
       "2       18.863636  -4.863636  \n",
       "3       71.333333 -60.333333  \n",
       "4        6.875000  13.125000  \n",
       "\n",
       "[5 rows x 22 columns]"
      ]
     },
     "execution_count": 30,
     "metadata": {},
     "output_type": "execute_result"
    }
   ],
   "source": [
    "x.head()"
   ]
  },
  {
   "cell_type": "markdown",
   "metadata": {},
   "source": [
    "Target Encoding"
   ]
  },
  {
   "cell_type": "code",
   "execution_count": 31,
   "metadata": {},
   "outputs": [],
   "source": [
    "encoder = MEstimateEncoder(return_df = True)\n",
    "encoder.fit(x,y)\n",
    "x = encoder.transform(x)\n",
    "test = encoder.transform(test)"
   ]
  },
  {
   "cell_type": "markdown",
   "metadata": {},
   "source": [
    "Calculating MI Scores"
   ]
  },
  {
   "cell_type": "code",
   "execution_count": 32,
   "metadata": {},
   "outputs": [
    {
     "name": "stdout",
     "output_type": "stream",
     "text": [
      "points_in_wallet                0.571323\n",
      "membership_category             0.545356\n",
      "feedback                        0.357704\n",
      "avg_transaction_value           0.153804\n",
      "avg_frequency_login_days        0.080514\n",
      "x                               0.024280\n",
      "avg_login_days                  0.020765\n",
      "days_since_last_login           0.005359\n",
      "past_complaint                  0.005019\n",
      "gender                          0.004542\n",
      "region_category                 0.004264\n",
      "joined_through_referral         0.003016\n",
      "internet_option                 0.002560\n",
      "age                             0.002196\n",
      "complaint_status                0.002194\n",
      "preferred_offer_types           0.001449\n",
      "used_special_discount           0.000207\n",
      "last_visit_time                 0.000000\n",
      "medium_of_operation             0.000000\n",
      "offer_application_preference    0.000000\n",
      "days_since_joined               0.000000\n",
      "avg_time_spent                  0.000000\n",
      "Name: MI Scores, dtype: float64\n"
     ]
    }
   ],
   "source": [
    "def make_mi_scores(x, y):\n",
    "    mi_scores = mutual_info_classif(x, y)\n",
    "    mi_scores = pd.Series(mi_scores, name=\"MI Scores\", index=x.columns)\n",
    "    mi_scores = mi_scores.sort_values(ascending=False)\n",
    "    return mi_scores\n",
    "\n",
    "mi_scores = make_mi_scores(x, y)\n",
    "imp_columns = list(mi_scores.index[:])\n",
    "x = x[imp_columns]\n",
    "test = test[imp_columns]\n",
    "print(mi_scores)"
   ]
  },
  {
   "cell_type": "code",
   "execution_count": 33,
   "metadata": {},
   "outputs": [],
   "source": [
    "def score(y_true, y_pred):\n",
    "    score = 100 * metrics.f1_score(y_true, y_pred, average=\"macro\")\n",
    "    return score"
   ]
  },
  {
   "cell_type": "markdown",
   "metadata": {},
   "source": [
    "Cross val score"
   ]
  },
  {
   "cell_type": "code",
   "execution_count": 34,
   "metadata": {},
   "outputs": [],
   "source": [
    "cbc = CatBoostClassifier(verbose=0,max_depth = 6)\n",
    "rfc = RandomForestClassifier(verbose = 0,n_jobs = -1,max_depth = 6)\n",
    "xgbc = XGBClassifier(verbose = 0,n_jobs = -1,max_depth = 6)"
   ]
  },
  {
   "cell_type": "code",
   "execution_count": 35,
   "metadata": {},
   "outputs": [],
   "source": [
    "# cv = cross_val_score(xgbc, x,y, scoring = make_scorer(score,greater_is_better = True) ,cv = 5)\n",
    "# print(cv)\n",
    "# print(np.mean(cv))"
   ]
  },
  {
   "cell_type": "markdown",
   "metadata": {},
   "source": [
    "Final Submission"
   ]
  },
  {
   "cell_type": "code",
   "execution_count": 36,
   "metadata": {},
   "outputs": [],
   "source": [
    "xgbc.fit(x,y)\n",
    "pred = xgbc.predict(test)\n",
    "test['customer_id']=t \n",
    "test['churn_risk_score'] = pred\n",
    "\n",
    "test[['customer_id','churn_risk_score']].to_csv('submission22.csv',index=False)"
   ]
  },
  {
   "cell_type": "code",
   "execution_count": null,
   "metadata": {},
   "outputs": [],
   "source": [
    "from xgboost import plot_importance\n",
    "plot_importance(xgbc)"
   ]
  },
  {
   "cell_type": "markdown",
   "metadata": {},
   "source": [
    "Using Regression"
   ]
  },
  {
   "cell_type": "code",
   "execution_count": 41,
   "metadata": {},
   "outputs": [
    {
     "name": "stdout",
     "output_type": "stream",
     "text": [
      "[11:08:15] WARNING: C:/Users/Administrator/workspace/xgboost-win64_release_1.3.0/src/learner.cc:541: \n",
      "Parameters: { verbose } might not be used.\n",
      "\n",
      "  This may not be accurate due to some parameters are only used in language bindings but\n",
      "  passed down to XGBoost core.  Or some parameters are not used but slip through this\n",
      "  verification. Please open an issue if you find above cases.\n",
      "\n",
      "\n"
     ]
    }
   ],
   "source": [
    "# from xgboost import XGBRegressor\n",
    "# xgbr = XGBRegressor(verbose = 0,n_jobs = -1,max_depth = 6)\n",
    "# xgbr.fit(x,y)\n",
    "# pred = xgbr.predict(test)\n",
    "# pred = pred.round()\n",
    "# test['customer_id']=t \n",
    "# test['churn_risk_score'] = pred\n",
    "\n",
    "# test[['customer_id','churn_risk_score']].to_csv('submission21.csv',index=False)"
   ]
  },
  {
   "cell_type": "markdown",
   "metadata": {},
   "source": [
    "Final Submission with feature selection using SelectFromModel"
   ]
  },
  {
   "cell_type": "code",
   "execution_count": null,
   "metadata": {},
   "outputs": [],
   "source": [
    "# selector = SelectFromModel(estimator = ,prefit = True,max_features = , threshold = -np.inf)\n",
    "# .fit(x,y)\n",
    "# x = selector.transform(x)\n",
    "# test = selector.transform(test)\n",
    "# .fit(x,y)\n",
    "# pred = .predict(test)\n",
    "# test[''] = pred\n",
    "# test[[]].to_csv('submission1.csv',index = False)"
   ]
  },
  {
   "cell_type": "code",
   "execution_count": null,
   "metadata": {},
   "outputs": [],
   "source": [
    "# x_train, x_test, y_train, y_test = model_selection.train_test_split(x,y,test_size = 0.20, shuffle = True,random_state = 22,stratify = y)"
   ]
  }
 ],
 "metadata": {
  "kernelspec": {
   "display_name": "Python 3",
   "language": "python",
   "name": "python3"
  },
  "language_info": {
   "codemirror_mode": {
    "name": "ipython",
    "version": 3
   },
   "file_extension": ".py",
   "mimetype": "text/x-python",
   "name": "python",
   "nbconvert_exporter": "python",
   "pygments_lexer": "ipython3",
   "version": "3.7.7"
  }
 },
 "nbformat": 4,
 "nbformat_minor": 4
}
